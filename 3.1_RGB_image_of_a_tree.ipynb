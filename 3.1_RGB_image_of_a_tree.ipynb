{
 "cells": [
  {
   "cell_type": "markdown",
   "metadata": {},
   "source": [
    "## 3.1 RGB image of a tree\n",
    "In this section we will create an RGB image of a tree. By the end of this section you should produce an image like this.\n",
    "\n",
    "<img src=img/birch.op.png width=400>"
   ]
  },
  {
   "cell_type": "code",
   "execution_count": null,
   "metadata": {
    "collapsed": false
   },
   "outputs": [],
   "source": [
    "import os\n",
    "import numpy as np\n",
    "import matplotlib.pyplot as plt\n",
    "%matplotlib inline\n",
    "from run_start import *\n",
    "from hips import hips2img"
   ]
  },
  {
   "cell_type": "markdown",
   "metadata": {},
   "source": [
    "## Running start to create an RGB image\n",
    "\n",
    "Below is an example of running a spectral simulation:\n",
    "\n",
    "<code>echo <span style=color:red>14</span> <span style=color:blue>camera/simple.camera</span> <span style=color:green>light/simple.light</span> | <span style=color:brown>start</span> -v <span style=color:pink>-RATm 5</span> <span style=color:orange>-RATsensor_wavebands wb/waveband.dat</span> obj/birch_tree.obj</code>\n",
    "\n",
    "where:\n",
    "\n",
    "<code><span style=color:red>14</span></code> is the librat mode\n",
    "\n",
    "<code><span style=color:blue>camera/simple.camera</span></code> points at the <code><span style=\"background-color:lightgrey\">simple.camera</span></code> file\n",
    "\n",
    "<code><span style=color:green>light/simple.light</span></code> points at the <code><span style=\"background-color:lightgrey\">simple.light</span></code> file\n",
    "\n",
    "This pipes to <span style=color:brown>start</span> running in verbose (-v) mode, <span style=color:brown>start</span> has the additional following options:\n",
    "\n",
    "<code><span style=color:pink>-RATm 5</span></code> stipulates the oder of scattering, in this case 5 orders.\n",
    "\n",
    "<code><span style=color:orange>-RATsensor_wavebands wb/waveband.dat</span></code> points at a list of wavebands to simulate, these do not have to correspond to wavelengths in the materials library as librat will perform a linear interpolation.\n",
    "\n",
    "<code>birch_tree.obj</code> points at the <code><span style=\"background-color:lightgrey\">birch_tree.obj</span></code>"
   ]
  },
  {
   "cell_type": "code",
   "execution_count": null,
   "metadata": {
    "collapsed": false
   },
   "outputs": [],
   "source": [
    "# all .obj and .dat are in specific folders e.g. camera.dat \n",
    "# is in the camera directory\n",
    "cmd = 'echo 14 camera/simple.camera light/simple.light | \\\n",
    "       start -v -RATm 5 -RATsensor_wavebands wb/waveband.dat obj/birch_tree_scene.obj'\n",
    "error = run_start(cmd)\n",
    "\n",
    "if not error:\n",
    "    # as stipulated in camera/simple.camera the output image is \n",
    "    # saved to output/birch.op.hips\n",
    "    # \n",
    "    # When using hips2img to produce an RGB image, use the 'stretch' \n",
    "    # arg otherwise image is dark\n",
    "    hips2img('output/birch.op.hips', stretch=True)"
   ]
  },
  {
   "cell_type": "markdown",
   "metadata": {},
   "source": [
    "## Creating a spectra from the output\n",
    "As well as producing an image, librat also produces a table of refletance.  This can be ordered by \"wavelength\" i.e. different wavelengths are the column headers, or as here, by scattering order.  This table can be read in using Numpy as below. Here the scattering orders have been summed (<code>refl[:, 1:].sum(axis=0)</code>)."
   ]
  },
  {
   "cell_type": "code",
   "execution_count": null,
   "metadata": {
    "collapsed": false
   },
   "outputs": [],
   "source": [
    "refl = np.loadtxt('output/birch.op.results.direct')\n",
    "wb = np.loadtxt('wb/waveband.dat')\n",
    "plt.plot(wb[:, 1], refl[:, 1:].sum(axis=0))\n",
    "plt.xlabel('wavelength')\n",
    "plt.ylabel('relfectance')"
   ]
  }
 ],
 "metadata": {
  "kernelspec": {
   "display_name": "Python 2",
   "language": "python",
   "name": "python2"
  },
  "language_info": {
   "codemirror_mode": {
    "name": "ipython",
    "version": 2
   },
   "file_extension": ".py",
   "mimetype": "text/x-python",
   "name": "python",
   "nbconvert_exporter": "python",
   "pygments_lexer": "ipython2",
   "version": "2.7.11"
  }
 },
 "nbformat": 4,
 "nbformat_minor": 0
}
