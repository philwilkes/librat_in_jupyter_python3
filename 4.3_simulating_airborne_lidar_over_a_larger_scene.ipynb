{
 "cells": [
  {
   "cell_type": "markdown",
   "metadata": {},
   "source": [
    "## 4.3 Simulating airborne lidar over a larger scene"
   ]
  },
  {
   "cell_type": "markdown",
   "metadata": {},
   "source": [
    "A python interpretation of <a href=http://www2.geog.ucl.ac.uk/~plewis/bpms/src/start/tests/lidar/lidar4.html>Lewis' example</a>"
   ]
  },
  {
   "cell_type": "code",
   "execution_count": null,
   "metadata": {
    "collapsed": false
   },
   "outputs": [],
   "source": [
    "import os\n",
    "import numpy as np\n",
    "import matplotlib.pyplot as plt\n",
    "%matplotlib inline\n",
    "from run_start import *\n",
    "from hips import hips2img, hipstats\n",
    "from generate_camera_file import update_existing_camera"
   ]
  },
  {
   "cell_type": "markdown",
   "metadata": {},
   "source": [
    "For this example we use the <code><span style=\"background-color:lightgrey\">obj/shrubs.obj</span></code> object file. We can extract the \"cloned\" objects and their xy coordinates -  we can see that they are clustered round a central 100 m x 100 m area"
   ]
  },
  {
   "cell_type": "code",
   "execution_count": null,
   "metadata": {
    "collapsed": false
   },
   "outputs": [],
   "source": [
    "with open('obj/shrubs.obj') as O:\n",
    "    for line in O:\n",
    "        if 'clone' in line:\n",
    "            plt.scatter(float(line.split()[1]), float(line.split()[2]), s=1)"
   ]
  },
  {
   "cell_type": "raw",
   "metadata": {},
   "source": [
    "We can then generate a simple height map using the librat 16 option"
   ]
  },
  {
   "cell_type": "code",
   "execution_count": null,
   "metadata": {
    "collapsed": false
   },
   "outputs": [],
   "source": [
    "cmd = 'echo 16 0 0 200 100 100 512 512 1 output/shrubs.height.hips | \\\n",
    "       start obj/shrubs.obj'\n",
    "\n",
    "error = run_start(cmd)\n",
    "\n",
    "if not error:\n",
    "    hips2img('output/shrubs.height.hips', order=[0])"
   ]
  },
  {
   "cell_type": "raw",
   "metadata": {},
   "source": [
    "From this .hips image we can estimate the height of the canopy"
   ]
  },
  {
   "cell_type": "code",
   "execution_count": null,
   "metadata": {
    "collapsed": false
   },
   "outputs": [],
   "source": [
    "MIN, MAX, MEAN, STD = hipstats('output/shrubs.height.hips')\n",
    "print MAX"
   ]
  },
  {
   "cell_type": "raw",
   "metadata": {},
   "source": [
    "We can also generate a RGB image of the same area using the camera/simple.camera and light/simple.light camera and light files"
   ]
  },
  {
   "cell_type": "code",
   "execution_count": null,
   "metadata": {
    "collapsed": false
   },
   "outputs": [],
   "source": [
    "update_existing_camera('camera/simple.camera', 'camera/shrubs.camera', oname='output/shrubs',\n",
    "                       new_options={'geometry.boomLength':50,\n",
    "                                    'geometry.idealArea':50,\n",
    "                                    'samplingCharacteristics.rpp':1})\n",
    "\n",
    "cmd = 'echo 14 camera/shrubs.camera light/simple.light | \\\n",
    "       start -RATm 5 -RATsensor_wavebands wb/waveband.dat obj/shrubs.obj'\n",
    "error = run_start(cmd)\n",
    "\n",
    "if not error:\n",
    "    hips2img('output/shrubs.hips')"
   ]
  },
  {
   "cell_type": "code",
   "execution_count": null,
   "metadata": {
    "collapsed": false,
    "scrolled": false
   },
   "outputs": [],
   "source": [
    "L = 1e-9 * 299792458 # speed of light m/ns\n",
    "pl_ln = 4 * L # pulse length @ 4 ns\n",
    "pl_sd = 1 # how much of a gaussian\n",
    "boomLength = 10 # height of illumination (and camera)\n",
    "footprint = .3\n",
    "\n",
    "# update light file\n",
    "update_existing_camera('light/pulse.lidar', 'light/shrubs.lidar',\n",
    "                       new_options={'lidar.pulseStart':pl_ln/2.,\n",
    "                                    'lidar.pulseSD':pl_sd,\n",
    "                                    'lidar.pulseLength':pl_ln,\n",
    "                                    'geometry.boomLength':boomLength,\n",
    "                                    'geometry.idealArea':footprint},\n",
    "                       remove=['lidar.pulseOPFile'])\n",
    "\n",
    "oname='output/shrubs.lidar' # geometry.idealArea = footprint\n",
    "binStep = .05\n",
    "hoc = ((MAX // binStep) * binStep) + binStep # height of canopy\n",
    "diff_camera_toc = boomLength - hoc\n",
    "binStart = diff_camera_toc * 2.\n",
    "nBins = np.ceil(((boomLength * 2.) - binStart) / binStep)\n",
    "\n",
    "# update camera file\n",
    "update_existing_camera('camera/pulse.lidar', 'camera/shrubs.lidar', oname=oname,\n",
    "                       new_options={'geometry.idealArea':footprint,\n",
    "                                    'geometry.boomLength':boomLength,\n",
    "                                    'lidar.binStart':binStart,\n",
    "                                    'lidar.binStep':binStep,\n",
    "                                    'lidar.nBins':nBins})\n",
    "\n",
    "# here we are using a dual wavelength LiDAR (wb/dual_waveband.dat)\n",
    "cmd = 'echo 14 camera/shrubs.lidar light/shrubs.lidar | \\\n",
    "       start -RATm 5 -RATsensor_wavebands wb/dual_waveband.dat obj/shrubs.obj'\n",
    "error = run_start(cmd)\n",
    "\n",
    "if not error:\n",
    "    # the .hips file contains the slices from both the R and NIR,\n",
    "    # if we do a read_header() on the .hips file we will notice\n",
    "    # that there are 110 slices.  This means that the first 55 slices\n",
    "    # are for the R band and the next 55 slices are for the NIR band.\n",
    "    # The image below is therefore for the the NIR slices only.\n",
    "    hips2img('{}.hips'.format(oname), order=[60, 80, 109])"
   ]
  },
  {
   "cell_type": "code",
   "execution_count": null,
   "metadata": {
    "collapsed": false
   },
   "outputs": [],
   "source": [
    "from hips import read_header\n",
    "print nBins\n",
    "read_header('{}.hips'.format(oname))"
   ]
  },
  {
   "cell_type": "code",
   "execution_count": null,
   "metadata": {
    "collapsed": false
   },
   "outputs": [],
   "source": [
    "refl = np.loadtxt('output/shrubs.lidar.dat.direct')\n",
    "ax = plt.subplot(111)\n",
    "ax.plot(refl[:nBins+2, 1:].mean(axis=1), label='R')\n",
    "ax.plot(refl[nBins+2:, 1:].mean(axis=1), label='NIR')\n",
    "ax.set_xticklabels(['{:.2f}'.format(v) for v in MAX - (ax.get_xticks() * .05) / 2])\n",
    "ax.set_xlabel('height (~m)')\n",
    "ax.set_ylabel('reflectance')\n",
    "ax.legend(loc='best')"
   ]
  }
 ],
 "metadata": {
  "kernelspec": {
   "display_name": "Python 2",
   "language": "python",
   "name": "python2"
  },
  "language_info": {
   "codemirror_mode": {
    "name": "ipython",
    "version": 2
   },
   "file_extension": ".py",
   "mimetype": "text/x-python",
   "name": "python",
   "nbconvert_exporter": "python",
   "pygments_lexer": "ipython2",
   "version": "2.7.11"
  }
 },
 "nbformat": 4,
 "nbformat_minor": 0
}
