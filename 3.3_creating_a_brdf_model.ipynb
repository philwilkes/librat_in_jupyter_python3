{
 "cells": [
  {
   "cell_type": "markdown",
   "metadata": {},
   "source": [
    "## 3.3 Creating a BRDF model"
   ]
  },
  {
   "cell_type": "code",
   "execution_count": null,
   "metadata": {
    "collapsed": false
   },
   "outputs": [],
   "source": [
    "import os\n",
    "import numpy as np\n",
    "import itertools\n",
    "import multiprocessing\n",
    "import ctypes\n",
    "import glob\n",
    "from run_start import *\n",
    "from generate_camera_file import *\n",
    "from plot_polar_contour import *\n",
    "%matplotlib inline"
   ]
  },
  {
   "cell_type": "markdown",
   "metadata": {},
   "source": [
    "## Method\n",
    "With each iteration the azimuth and zenith view angles are permeated through angles 0 - 360$^{\\circ}$ in 10$^{\\circ}$ steps and 5$^{\\circ}$ - 60$^{\\circ}$ in 5$^{\\circ}$ steps respectively.  The illumination azimuth and zenith angles are set to 90$^{\\circ}$ and 75$^{\\circ}$ repsectively in <code><span style=\"background-color:lightgrey\">light/brdf.light</span></code>.\n",
    "\n",
    "This code introduces a Python module that can construct a <code><span style=\"background-color:lightgrey\">*.camera</span></code> from a dictionary. "
   ]
  },
  {
   "cell_type": "code",
   "execution_count": null,
   "metadata": {
    "collapsed": false
   },
   "outputs": [],
   "source": [
    "azimuth = np.arange(0, 370, 10)\n",
    "zenith = -np.arange(-60, 0, 5)\n",
    "coordinates = np.asarray(list(itertools.product(azimuth, zenith)))"
   ]
  },
  {
   "cell_type": "code",
   "execution_count": null,
   "metadata": {
    "collapsed": false
   },
   "outputs": [],
   "source": [
    "# http://stackoverflow.com/questions/5549190/is-shared-readonly-data-copied-to-different-processes-for-python-multiprocessing/5550156#5550156\n",
    "\n",
    "shared_array_base = multiprocessing.Array(ctypes.c_double, len(coordinates) * 3)\n",
    "shared_array = np.ctypeslib.as_array(shared_array_base.get_obj())\n",
    "shared_array = shared_array.reshape(len(coordinates), 3)\n",
    "\n",
    "shared_array[:, :2] = coordinates\n",
    "\n",
    "def process_(i, def_param=shared_array):\n",
    "    \n",
    "    A = shared_array[i, 0]\n",
    "    Z = shared_array[i, 1]\n",
    "    \n",
    "    # create tmeporary camera file\n",
    "    camera_fname = 'camera/brdf.{}.camera'.format(i)\n",
    "    results_name = 'output/brdf.{}'.format(i)\n",
    "    camera(camera_fname,\n",
    "           geometry_options={'geometry.azimuth':A,\n",
    "                             'geometry.zenith':Z,\n",
    "                             'geometry.lookAt':[.2, 0, 5.36],\n",
    "                             'geometry.idealArea':1},\n",
    "           results_options={'oname':results_name},\n",
    "           remove=['result.image'], overwrite=True) # we don't need an image\n",
    "\n",
    "    # run simulation\n",
    "    cmd = \"echo 14 {} light/brdf_light.dat | \\\n",
    "           start -RATm 5 -RATsensor_wavebands wb/brdf_waveband.dat \\\n",
    "           obj/birch_tree_scene.obj\".format(camera_fname)\n",
    "    error = run_start(cmd)\n",
    "\n",
    "    # extract reflectance value\n",
    "    shared_array[i, 2] = np.loadtxt(results_name + '.results.direct')[:, 1].sum()\n",
    "    \n",
    "    # delete files\n",
    "    os.unlink(camera_fname)\n",
    "    os.unlink(results_name + '.results')\n",
    "    os.unlink(results_name + '.results.direct')\n",
    "    os.unlink(results_name + '.results.diffuse')\n",
    "\n",
    "if __name__ == '__main__':\n",
    "    \n",
    "    number_of_processes = 4\n",
    "    estimated_time = (len(shared_array) / number_of_processes) / 60.\n",
    "    \n",
    "    print 'this will run {} tasks'.format(len(shared_array))\n",
    "    print 'as each run takes ~1 min (on my mac) therefore whole process should take {:.2f} hours'.format(estimated_time)\n",
    "\n",
    "    pool = multiprocessing.Pool(processes=number_of_processes)\n",
    "    pool.map(process_, [i for i in range(len(shared_array))])"
   ]
  },
  {
   "cell_type": "code",
   "execution_count": null,
   "metadata": {
    "collapsed": false
   },
   "outputs": [],
   "source": [
    "brdf_array = shared_array[:, 2].reshape(len(azimuth), len(zenith))"
   ]
  },
  {
   "cell_type": "code",
   "execution_count": null,
   "metadata": {
    "collapsed": false
   },
   "outputs": [],
   "source": [
    "plot_polar_contour(brdf_array, azimuth, zenith)"
   ]
  }
 ],
 "metadata": {
  "kernelspec": {
   "display_name": "Python 2",
   "language": "python",
   "name": "python2"
  },
  "language_info": {
   "codemirror_mode": {
    "name": "ipython",
    "version": 2
   },
   "file_extension": ".py",
   "mimetype": "text/x-python",
   "name": "python",
   "nbconvert_exporter": "python",
   "pygments_lexer": "ipython2",
   "version": "2.7.11"
  }
 },
 "nbformat": 4,
 "nbformat_minor": 0
}
