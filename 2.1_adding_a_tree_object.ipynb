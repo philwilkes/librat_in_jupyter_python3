{
 "cells": [
  {
   "cell_type": "markdown",
   "metadata": {},
   "source": [
    "## 2.1 Adding a tree object to the scene\n",
    "In this section we will add a <code>.obj</code> file that contains a tree object"
   ]
  },
  {
   "cell_type": "code",
   "execution_count": null,
   "metadata": {
    "collapsed": false
   },
   "outputs": [],
   "source": [
    "import os\n",
    "from run_start import *\n",
    "from hips import hips2img\n",
    "%matplotlib inline"
   ]
  },
  {
   "cell_type": "markdown",
   "metadata": {},
   "source": [
    "## What does a <code>.obj</code> that contains a tree look like?\n",
    "An <code>.obj</code> that contains a single tree can be very long - the below example has 289,000+ lines.  However, most of these are clones of the first few objects in the file. There are a number of ways of creating a <code>.obj</code>  file such as using the proprietry software Onyx tree.\n",
    "\n",
    "We will use the <code><span style=\"background-color: lightgrey\">obj/birch_tree.obj</span></code> as the basis of these examples.  A qucik look at the first few lines of this file.\n",
    "\n",
    "### Creating objects with facets\n",
    "\n",
    "Lets have a look at the a leaf object from :\n",
    "\n",
    "<code>\n",
    "    g leaf_example\n",
    "    usemtl Leaf1\n",
    "    v -0.171903 -0.116014 2.692959 <span style=\"color:green\"><i># v creates a vector with coordinates x y z</i></span>\n",
    "    !local -1 0.5 0\n",
    "    v -0.169273 -0.099927 2.678257\n",
    "    !local -1 1 0.42356\n",
    "    v -0.154035 -0.110306 2.658874\n",
    "    !local -1 0.5 1\n",
    "    f -3 -2 -1 <span style=\"color:green\"><i># f puts the trailing (-3 -2 -1) v together into a facet</i></span>\n",
    "    usemtl Leaf1\n",
    "    v -0.171903 -0.116014 2.692959\n",
    "    !local -1 0.5 0\n",
    "    v -0.154035 -0.110306 2.658874\n",
    "    !local -1 0.5 1\n",
    "    v -0.162335 -0.128205 2.677285\n",
    "    !local -1 0 0.42356\n",
    "    f -3 -2 -1 <span style=\"color:green\"><i># another facet therefore we have a square (or diamond) shaped leaf</i></span>\n",
    "    !}\n",
    "</code>\n",
    "\n",
    "If adding more than one lead we need to wrap the leaves in an object (g) and then clone the whole thing\n",
    "\n",
    "<code>\n",
    "    mtllib materials.matlib\n",
    "    !{ <span style=\"color:green\"><i># ground plane as usual</i></span>\n",
    "    usemtl white\n",
    "    v 0 0 0\n",
    "    v 0 0 1\n",
    "    plane -1 -2\n",
    "    !}\n",
    "    !{ <span style=\"color:green\"><i># define our object called </i>tree</span>\n",
    "    g tree\n",
    "    !{ <span style=\"color:green\"><i># define our leaf object </i>leaf_a</span>\n",
    "    ... <span style=\"color:green\"><i># leaf code from above</span>\n",
    "    !}\n",
    "    !}\n",
    "    {! <span style=\"color:green\"><i># clone our </i>tree<i> object (which currently consists of one leaf!)</i></span>\n",
    "    clone 0 0 0 0 tree\n",
    "    !}\n",
    "</code>"
   ]
  },
  {
   "cell_type": "code",
   "execution_count": null,
   "metadata": {
    "collapsed": true
   },
   "outputs": [],
   "source": [
    "# to run obj blocks interactively\n",
    "def run_code(code):\n",
    "    # writes code string to temporary file\n",
    "    with open('obj/obj_example.obj', 'w') as O:\n",
    "        O.write(code)\n",
    "\n",
    "    # runs start\n",
    "    cmd = \"echo 16 0 0 3 1 1 512 512 1 output/obj_example.hips | \\\n",
    "           start obj/obj_example.obj\"\n",
    "    error = run_start(cmd)\n",
    "\n",
    "    # displays hips image output\n",
    "    if not error:\n",
    "        hips2img('output/obj_example.hips', stretch=False)"
   ]
  },
  {
   "cell_type": "raw",
   "metadata": {},
   "source": [
    "In the below example we'll model two leaves"
   ]
  },
  {
   "cell_type": "code",
   "execution_count": null,
   "metadata": {
    "collapsed": false
   },
   "outputs": [],
   "source": [
    "code = \"\"\"\n",
    "mtllib materials.matlib\n",
    "!{\n",
    "usemtl white\n",
    "v 0 0 0\n",
    "v 0 0 1\n",
    "plane -1 -2\n",
    "!}\n",
    "!{\n",
    "g tree\n",
    "!{\n",
    "g box leaf_A\n",
    "usemtl Leaf1\n",
    "v -0.171903 -0.116014 2.692959\n",
    "!local -1 0.5 0\n",
    "v -0.169273 -0.099927 2.678257\n",
    "!local -1 1 0.42356\n",
    "v -0.154035 -0.110306 2.658874\n",
    "!local -1 0.5 1\n",
    "f -3 -2 -1\n",
    "usemtl Leaf1\n",
    "v -0.171903 -0.116014 2.692959\n",
    "!local -1 0.5 0\n",
    "v -0.154035 -0.110306 2.658874\n",
    "!local -1 0.5 1\n",
    "v -0.162335 -0.128205 2.677285\n",
    "!local -1 0 0.42356\n",
    "f -3 -2 -1\n",
    "!}\n",
    "!{\n",
    "g box leaf_B\n",
    "usemtl Leaf1\n",
    "v -0.137291 -0.371732 2.700421\n",
    "!local -1 0.5 0\n",
    "v -0.127707 -0.385015 2.691488\n",
    "!local -1 1 0.385223\n",
    "v -0.142031 -0.404086 2.682208\n",
    "!local -1 0.5 1\n",
    "f -3 -2 -1\n",
    "usemtl Leaf1\n",
    "v -0.137291 -0.371732 2.700421\n",
    "!local -1 0.5 0\n",
    "v -0.142031 -0.404086 2.682208\n",
    "!local -1 0.5 1\n",
    "v -0.150632 -0.384091 2.696964\n",
    "!local -1 0 0.385223\n",
    "f -3 -2 -1\n",
    "!}\n",
    "!}\n",
    "{!\n",
    "clone 0 0 0 0 tree\n",
    "!}\n",
    "\"\"\"\n",
    "run_code(code)"
   ]
  },
  {
   "cell_type": "raw",
   "metadata": {},
   "source": [
    "We can also model leaves as discs"
   ]
  },
  {
   "cell_type": "code",
   "execution_count": null,
   "metadata": {
    "collapsed": false
   },
   "outputs": [],
   "source": [
    "code = \"\"\"\n",
    "mtllib materials.matlib\n",
    "!{\n",
    "usemtl white\n",
    "v 0 0 0\n",
    "v 0 0 1\n",
    "plane -1 -2\n",
    "!}\n",
    "!{\n",
    "g tree\n",
    "!{\n",
    "g leaf_A\n",
    "usemtl Leaf1\n",
    "v 0 1 1 # x y z for changing orientation \n",
    "v 0 0 1 # x y z for changing position\n",
    "disk -1 -2 .2 # last variable alters radius\n",
    "!}\n",
    "!}\n",
    "{!\n",
    "clone 0 0 0 0 tree\n",
    "!}\n",
    "\"\"\"\n",
    "run_code(code)"
   ]
  },
  {
   "cell_type": "markdown",
   "metadata": {},
   "source": [
    "### Trees from facets\n",
    "In the below example we render the whole <code>.obj</code> file which is just a collection of many many vertices!"
   ]
  },
  {
   "cell_type": "code",
   "execution_count": null,
   "metadata": {
    "collapsed": false
   },
   "outputs": [],
   "source": [
    "# check the terminal window running iPython for progress\n",
    "cmd = \"echo 16 0 0 20 2 2 216 216 6 output/single_birch.hips | start -v obj/birch_tree_scene.obj\"\n",
    "error = run_start(cmd)\n",
    "\n",
    "if not error:\n",
    "    hips2img('output/single_birch.hips', order=[0])"
   ]
  }
 ],
 "metadata": {
  "kernelspec": {
   "display_name": "Python 2",
   "language": "python",
   "name": "python2"
  },
  "language_info": {
   "codemirror_mode": {
    "name": "ipython",
    "version": 2
   },
   "file_extension": ".py",
   "mimetype": "text/x-python",
   "name": "python",
   "nbconvert_exporter": "python",
   "pygments_lexer": "ipython2",
   "version": "2.7.11"
  }
 },
 "nbformat": 4,
 "nbformat_minor": 0
}
