{
 "cells": [
  {
   "cell_type": "markdown",
   "metadata": {},
   "source": [
    "## 2.2 Using #include to create a forest\n",
    "In this example we take the birch tree from the previous example and create a forest."
   ]
  },
  {
   "cell_type": "code",
   "execution_count": null,
   "metadata": {
    "collapsed": false
   },
   "outputs": [],
   "source": [
    "import os\n",
    "from run_start import *\n",
    "from hips import hips2img\n",
    "%matplotlib inline"
   ]
  },
  {
   "cell_type": "markdown",
   "metadata": {},
   "source": [
    "Below a simple code example of how to import tree objects from <code><span style=\"background-color: lightgrey\">obj/birch_tree.obj</span></code> into <code><span style=\"background-color: lightgrey\">obj/a_pair_of_birch_trees.obj</span></code>.\n",
    "\n",
    "<code>\n",
    "    mtllib materials.matlib\n",
    "    \\#include obj/birch_tree.obj <span style=\"color:green\"><i># relative path to .obj</i></span>\n",
    "    !{\n",
    "    usemtl white\n",
    "    v 0 0 0\n",
    "    v 0 0 1\n",
    "    plane -1 -2\n",
    "    !}\n",
    "    !{\n",
    "    g two_trees <span style=\"color:green\"><i># #inlcude are hierarchical so we can use this group later</i></span>\n",
    "    clone 0 0 0 0 birch tree 0 <span style=\"color:green\"><i># object in #include is named this</i></span>\n",
    "    clone -.8 0 0 55.35 birch tree 0\n",
    "    !}\n",
    "</code>"
   ]
  },
  {
   "cell_type": "code",
   "execution_count": null,
   "metadata": {
    "collapsed": false
   },
   "outputs": [],
   "source": [
    "# check the terminal window running iPython for progress\n",
    "cmd = \"echo 16 0 0 5 2 2 512 512 1 output/single_birch.hips | start -v obj/a_pair_of_birch_trees.obj\"\n",
    "error = run_start(cmd)\n",
    "\n",
    "if not error:\n",
    "    hips2img('output/single_birch.hips', order=[0])"
   ]
  },
  {
   "cell_type": "code",
   "execution_count": null,
   "metadata": {
    "collapsed": true
   },
   "outputs": [],
   "source": [
    "# to run obj blocks interactively\n",
    "def run_code(code):\n",
    "    # writes code string to temporary file\n",
    "    with open('obj/obj_example.obj', 'w') as O:\n",
    "        O.write(code)\n",
    "\n",
    "    # runs start\n",
    "    cmd = \"echo 16 0 0 5 2 2 216 216 1 output/obj_example.hips | \\\n",
    "           start obj/obj_example.obj\"\n",
    "    error = run_start(cmd)\n",
    "\n",
    "    # displays hips image output\n",
    "    if not error:\n",
    "        hips2img('output/obj_example.hips', stretch=False)"
   ]
  },
  {
   "cell_type": "code",
   "execution_count": null,
   "metadata": {
    "collapsed": false
   },
   "outputs": [],
   "source": [
    "code = \"\"\"\n",
    "mtllib materials.matlib\n",
    "#include obj/birch_tree.obj\n",
    "!{\n",
    "usemtl white\n",
    "v 0 0 0\n",
    "v 0 0 1\n",
    "plane -1 -2\n",
    "!}\n",
    "!{\n",
    "g two_trees\n",
    "clone 0 0 0 0 birch tree 0\n",
    "clone -.8 0 0 55.35 birch tree 0\n",
    "clone .2 .6 1 -90 birch tree 0\n",
    "!}\n",
    "\"\"\"\n",
    "\n",
    "run_code(code)"
   ]
  },
  {
   "cell_type": "markdown",
   "metadata": {},
   "source": [
    "\\#include is also hierarchical, so for example, we can #include the <code><span style=\"background-color: lightgrey\">obj/a_pair_of_birch_trees.obj</span></code> into a new <code>.obj</code>.  This code be a way of building larger forest scenes efficiently.\n",
    "\n",
    "<code>\n",
    "mtllib materials.matlib\n",
    "\\#include obj/a_pair_of_trees.obj\n",
    "\\#include obj/birch_tree.obj <span style=\"color:green\"><i># also the single birch to show multiple includes</i></span>\n",
    "!{\n",
    "usemtl soil\n",
    "v 0 0 0\n",
    "v 0 0 1\n",
    "plane -1 -2\n",
    "!}\n",
    "!{\n",
    "clone 0 0 0 0 two_trees <span style=\"color:green\"><i># object in #include is named this</i></span>\n",
    "clone -2 0 0 55.35 birch tree 0\n",
    "clone -1 -1 0 18 two_trees\n",
    "!}\n",
    "</code>\n",
    "\n",
    "However, to get this to run you must first comment out the materials library reference in <code><span style=\"background-color: lightgrey\">obj/a_pair_of_birch_trees.obj</span></code> otherwise you will get an error."
   ]
  },
  {
   "cell_type": "code",
   "execution_count": null,
   "metadata": {
    "collapsed": false
   },
   "outputs": [],
   "source": [
    "# check the terminal window running iPython for progress\n",
    "cmd = \"echo 16 0 0 5 4 4 512 512 1 output/single_birch.hips | start -v obj/hierarchy_example.obj\"\n",
    "error = run_start(cmd)\n",
    "\n",
    "if not error:\n",
    "    hips2img('output/single_birch.hips', order=[0])"
   ]
  }
 ],
 "metadata": {
  "kernelspec": {
   "display_name": "Python 2",
   "language": "python",
   "name": "python2"
  },
  "language_info": {
   "codemirror_mode": {
    "name": "ipython",
    "version": 2
   },
   "file_extension": ".py",
   "mimetype": "text/x-python",
   "name": "python",
   "nbconvert_exporter": "python",
   "pygments_lexer": "ipython2",
   "version": "2.7.11"
  }
 },
 "nbformat": 4,
 "nbformat_minor": 0
}
