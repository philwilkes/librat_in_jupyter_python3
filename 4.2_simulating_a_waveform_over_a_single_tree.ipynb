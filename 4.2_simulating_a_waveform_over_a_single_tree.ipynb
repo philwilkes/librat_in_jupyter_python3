{
 "cells": [
  {
   "cell_type": "markdown",
   "metadata": {},
   "source": [
    "## 4.2 Simulating a waveform over a single tree\n",
    "<img src=img/lidar_leaf.gif>"
   ]
  },
  {
   "cell_type": "code",
   "execution_count": null,
   "metadata": {
    "collapsed": false
   },
   "outputs": [],
   "source": [
    "import os\n",
    "import numpy as np\n",
    "import matplotlib.pyplot as plt\n",
    "%matplotlib inline\n",
    "from run_start import *\n",
    "from hips import hips2img, read_header"
   ]
  },
  {
   "cell_type": "code",
   "execution_count": null,
   "metadata": {
    "collapsed": true
   },
   "outputs": [],
   "source": [
    "from generate_camera_file import update_existing_camera"
   ]
  },
  {
   "cell_type": "code",
   "execution_count": null,
   "metadata": {
    "collapsed": false
   },
   "outputs": [],
   "source": [
    "# here we can assume our scene units are ~metres, therefore we \n",
    "# need to convert our LiDAR pulse (4 ns) into m.\n",
    "\n",
    "L = 1e-9 * 299792458 # speed of light m/ns\n",
    "pl_ln = 4 * L # pulse length @ 4 ns\n",
    "pl_sd = 1 # how much of a gaussian\n",
    "boomLength = 10 # height of illumination (and camera)\n",
    "footprint = 5\n",
    "\n",
    "update_existing_camera('light/pulse.lidar', 'light/large_footprint.lidar',\n",
    "                       new_options={'lidar.pulseStart':pl_ln/2.,\n",
    "                                    'lidar.pulseSD':pl_sd,\n",
    "                                    'lidar.pulseLength':pl_ln,\n",
    "                                    'lidar.pulseOPFile':'light/large.pulse',\n",
    "                                    'geometry.boomLength':10,\n",
    "                                    'geometry.idealArea':footprint})"
   ]
  },
  {
   "cell_type": "markdown",
   "metadata": {},
   "source": [
    "We will also need to update the camera file, using the logic from the previous example: \n",
    "\n",
    "If our camera (<code>geometry.boomLength</code>) is 10 units and the top of the tree is at ~6 units then the minimum return distance is 8 units (<code>lidar.binStart</code>). If we set the <code>lidar.binStep</code> to .1 and the total round distance from illumination to ground to camera is 20 then we'll need to set <code>lidar.nBins</code> to $(20-8)/0.1$ "
   ]
  },
  {
   "cell_type": "code",
   "execution_count": null,
   "metadata": {
    "collapsed": false
   },
   "outputs": [],
   "source": [
    "oname='output/large_footprint' # geometry.idealArea = footprint\n",
    "hoc = 6 # height of canopy\n",
    "diff_camera_toc = boomLength - hoc\n",
    "binStart = diff_camera_toc * 2\n",
    "binStep = .1\n",
    "nBins = ((boomLength * 2) - (binStart)) / binStep\n",
    "\n",
    "update_existing_camera('camera/pulse.lidar', 'camera/large_footprint.lidar', oname=oname,\n",
    "                       new_options={'geometry.idealArea':footprint,\n",
    "                                    'geometry.boomLength':boomLength,\n",
    "                                    'lidar.binStart':binStart,\n",
    "                                    'lidar.binStep':binStep,\n",
    "                                    'lidar.nBins':nBins})                                "
   ]
  },
  {
   "cell_type": "code",
   "execution_count": null,
   "metadata": {
    "collapsed": false
   },
   "outputs": [],
   "source": [
    "# now we can run the simulation\n",
    "cmd = 'echo 14 camera/large_footprint.lidar light/large_footprint.lidar | \\\n",
    "       start -RATm 1 -RATsensor_wavebands wb/brdf_waveband.dat obj/birch_tree_scene.obj'\n",
    "error = run_start(cmd)\n",
    "\n",
    "if not error:\n",
    "    # we can look at a slice of the resulting image using the 'order'\n",
    "    # option, in this case we are looking at lidar.nBins steps 0, 10, 30\n",
    "    # which correspond to near the top, middle and ground plane.\n",
    "    ax = hips2img('{}.hips'.format(oname), stretch=True, \n",
    "                  order=[20, 50, 120])"
   ]
  },
  {
   "cell_type": "code",
   "execution_count": null,
   "metadata": {
    "collapsed": false
   },
   "outputs": [],
   "source": [
    "# We can then look at the results of this by plotting\n",
    "# reflectance against bin number\n",
    "refl = np.loadtxt('output/large_footprint.dat.direct')\n",
    "plt.plot(refl[:, 0], refl[:, 1:].mean(axis=1))\n",
    "plt.yscale('log') # because ground reflectance is high\n",
    "plt.xlabel('lidar.nBin')\n",
    "plt.ylabel('reflectance (log)')"
   ]
  },
  {
   "cell_type": "markdown",
   "metadata": {},
   "source": [
    "### Small footprint LiDAR"
   ]
  },
  {
   "cell_type": "code",
   "execution_count": null,
   "metadata": {
    "collapsed": false
   },
   "outputs": [],
   "source": [
    "oname='output/small_footprint' # geometry.idealArea = .3\n",
    "footprint = .3\n",
    "\n",
    "update_existing_camera('light/pulse.lidar', 'light/small_footprint.lidar',\n",
    "                       new_options={'lidar.pulseStart':pl_ln/2.,\n",
    "                                    'lidar.pulseSD':pl_sd,\n",
    "                                    'lidar.pulseLength':pl_ln,\n",
    "                                    'lidar.pulseOPFile':'light/small.pulse',\n",
    "                                    'geometry.boomLength':boomLength,\n",
    "                                    'geometry.idealArea':footprint})\n",
    "\n",
    "update_existing_camera('camera/pulse.lidar', 'camera/small_footprint.lidar', oname=oname,\n",
    "                       new_options={'geometry.idealArea':footprint,\n",
    "                                    'geometry.boomLength':boomLength,\n",
    "                                    'lidar.binStart':binStart,\n",
    "                                    'lidar.binStep':binStep,\n",
    "                                    'lidar.nBins':nBins})\n",
    "\n",
    "cmd = 'echo 14 camera/small_footprint.lidar light/small_footprint.lidar | \\\n",
    "       start -RATm 1 -RATsensor_wavebands wb/brdf_waveband.dat obj/birch_tree_scene.obj'\n",
    "error = run_start(cmd)\n",
    "\n",
    "if not error:\n",
    "    # we can look at a slice of the resulting image using the 'order'\n",
    "    # option, in this case we are looking at lidar.nBins steps 20, 50, 120\n",
    "    ax = hips2img('{}.hips'.format(oname), stretch=True, \n",
    "                  order=[20, 50, 120])"
   ]
  },
  {
   "cell_type": "code",
   "execution_count": null,
   "metadata": {
    "collapsed": false
   },
   "outputs": [],
   "source": [
    "refl = np.loadtxt('output/small_footprint.dat.direct')\n",
    "plt.figure(figsize=(5, 5))\n",
    "ax = plt.subplot(111)\n",
    "ax.plot(refl[:, 1:].mean(axis=1))\n",
    "ax.set_xticklabels(['{:.2f}'.format(v) for v in hoc - (ax.get_xticks() * binStep) / 2])\n",
    "ax.set_xlabel('height (~m)')\n",
    "ax.set_ylabel('reflectance')"
   ]
  },
  {
   "cell_type": "markdown",
   "metadata": {},
   "source": [
    "## Changing the pulse spread function\n",
    "This is achieved by adding a Gaussian function to the light source or the camera.\n",
    "\n",
    "The additional options required are:\n",
    "\n",
    "<code>samplingPattern.form</code> <span style=color:green><i># either Gaussian or square</i></span>\n",
    "\n",
    "<code>samplingPattern.size</code> <span style=color:green><i># size of array steps (not in scene units)</i></span>\n",
    "\n",
    "<code>samplingPattern.sd</code> <span style=color:green><i># function standard deviation</i></span>\n",
    "\n",
    "<code>samplingPattern.centre</code> <span style=color:green><i># centre of function (in \"size\" units (see above))</i></span>\n",
    "\n",
    "<code>samplingPattern.threshold</code> <span style=color:green><i># see notes below...</i></span>\n",
    "\n",
    "<code>samplingPattern.OPImage</code> <span style=color:green><i># hips image of function</i></span>"
   ]
  },
  {
   "cell_type": "code",
   "execution_count": null,
   "metadata": {
    "collapsed": false
   },
   "outputs": [],
   "source": [
    "# in this example we have updated the PSF of a large footprint \n",
    "# instrument by manipulating the standard deviation\n",
    "\n",
    "oname = 'output/lfp_gauss'\n",
    "update_existing_camera('light/large_footprint.lidar', 'light/lfp_gauss.lidar',\n",
    "                       new_options={'samplingPattern.form':'gaussian',\n",
    "                                    'samplingPattern.size':[5000, 5000],\n",
    "                                    'samplingPattern.sd':[1, 3], # changed sd values so fp is anisotropic\n",
    "                                    'samplingPattern.centre':[3500, 3500],\n",
    "                                    'samplingPattern.threshold':.1,\n",
    "                                    'samplingPattern.OPImage':'light/opGaussian.hips'})\n",
    "\n",
    "update_existing_camera('camera/large_footprint.lidar', 'camera/lfp_gauss.lidar' , oname=oname)\n",
    "\n",
    "# now we can run the simulation\n",
    "cmd = 'echo 14 camera/lfp_gauss.lidar light/lfp_gauss.lidar | \\\n",
    "       start -RATm 1 -RATsensor_wavebands wb/brdf_waveband.dat obj/birch_tree_scene.obj'\n",
    "error = run_start(cmd)\n",
    "\n",
    "if not error:\n",
    "    ax = hips2img('{}.hips'.format(oname), stretch=True, \n",
    "                  order=[20, 50, 120])"
   ]
  },
  {
   "cell_type": "code",
   "execution_count": null,
   "metadata": {
    "collapsed": false
   },
   "outputs": [],
   "source": [
    "# We can then view the PSF\n",
    "hips2img('light/opGaussian.hips', order=[0])"
   ]
  }
 ],
 "metadata": {
  "kernelspec": {
   "display_name": "Python 2",
   "language": "python",
   "name": "python2"
  },
  "language_info": {
   "codemirror_mode": {
    "name": "ipython",
    "version": 2
   },
   "file_extension": ".py",
   "mimetype": "text/x-python",
   "name": "python",
   "nbconvert_exporter": "python",
   "pygments_lexer": "ipython2",
   "version": "2.7.11"
  }
 },
 "nbformat": 4,
 "nbformat_minor": 0
}
