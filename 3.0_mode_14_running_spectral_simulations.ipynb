{
 "cells": [
  {
   "cell_type": "markdown",
   "metadata": {},
   "source": [
    "## 3.0 Librat mode 14: running spectral simulations.\n",
    "To run spectral simulations librat expects two files, one specifying the camera configuration (here these are located in the <code><span style=\"background-color:lightgrey\">camera/</span></code> directory) and another specifiying the illumination source (located <code><span style=\"background-color:lightgrey\">light/</span></code>). "
   ]
  },
  {
   "cell_type": "markdown",
   "metadata": {},
   "source": [
    "## <code><span style=\"background-color:lightgrey\">camera/simple.camera</span></code>\n",
    "Below is an example of a simple camera located at <code><span style=\"background-color:lightgrey\">camera/simple.camera</span></code>\n",
    "\n",
    "<code>\n",
    "   camera { <span style=color:green><i># VERY important space between camera and brace</i></span>\n",
    "   camera.name = \"simple camera\"; <span style=color:green><i># name of camera is arbitary</i></span>\n",
    "   geometry.perspective = TRUE; <span style=color:green><i># default TRUE, if set to FALSE...</i></span>\n",
    "   geometry.azimuth = 0.0; <span style=color:green><i># view azimuth (0 - 360 degrees)</i></span>\n",
    "   geometry.zenith = 0.0; <span style=color:green><i># view zenith (0 - 90 degrees)</i></span>\n",
    "   geometry.twist = 0.0; <span style=color:green><i># twist of camera boom (see boom length) (0 - 360 degrees)</i></span>\n",
    "   geometry.lookAt = 0, 0, 0; <span style=color:green><i># ...</i></span>\n",
    "   geometry.boomLength = 10.; <span style=color:green><i># length of the camera boom, sets height of camera</i></span>\n",
    "   geometry.idealArea = 5; <span style=color:green><i># increasing this increases the area sampled </i></span>\n",
    "   samplingCharacteristics.nPixels = 262144; <span style=color:green><i># number of pixels</i></span>\n",
    "   samplingCharacteristics.rpp = 4; <span style=color:green><i># number of rays used to simulate each pixel</i></span>\n",
    "   result.integral = \"integral.results\" <span style=color:green><i># name and location of the integral results output</i></span>\n",
    "   result.integral.mode = \"scattering order\" <span style=color:green><i># order of rows and columns, other option is \"wavelength\"</i></span>\n",
    "   result.integral.format = \"ascii\" <span style=color:green><i># other options?</i></span>\n",
    "   result.image = \"op.hips\" <span style=color:green><i># name and location of the resulting image</i></span>\n",
    "   }\n",
    "</code>"
   ]
  },
  {
   "cell_type": "markdown",
   "metadata": {},
   "source": [
    "## <code><span style=\"background-color:lightgrey\">light/simple.light</span></code>\n",
    "Here is an example of how the illumination file should look.\n",
    "\n",
    "<code>\n",
    "    camera {\n",
    "    camera.name = \"simple illumination\"; <span style=color:green><i># arbitary name</i></span>\n",
    "    geometry.azimuth = 0.0; <span style=color:green><i># illumination azimuth</i></span>\n",
    "    geometry.zenith = 0.0; <span style=color:green><i># illumination zenith</i></span>\n",
    "    }\n",
    "</code>"
   ]
  },
  {
   "cell_type": "markdown",
   "metadata": {
    "collapsed": true
   },
   "source": [
    "We will use these files in the next couple of examples"
   ]
  }
 ],
 "metadata": {
  "kernelspec": {
   "display_name": "Python 2",
   "language": "python",
   "name": "python2"
  },
  "language_info": {
   "codemirror_mode": {
    "name": "ipython",
    "version": 2
   },
   "file_extension": ".py",
   "mimetype": "text/x-python",
   "name": "python",
   "nbconvert_exporter": "python",
   "pygments_lexer": "ipython2",
   "version": "2.7.11"
  }
 },
 "nbformat": 4,
 "nbformat_minor": 0
}
