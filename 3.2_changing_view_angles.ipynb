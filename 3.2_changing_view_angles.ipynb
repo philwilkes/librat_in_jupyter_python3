{
 "cells": [
  {
   "cell_type": "markdown",
   "metadata": {},
   "source": [
    "## 3.2 Changing view angles\n",
    "Here we will experiment with different sun and viewing angles using a couple of birch trees"
   ]
  },
  {
   "cell_type": "code",
   "execution_count": null,
   "metadata": {
    "collapsed": false
   },
   "outputs": [],
   "source": [
    "import os\n",
    "import numpy as np\n",
    "import matplotlib.pyplot as plt\n",
    "from run_start import *\n",
    "from hips import hips2img\n",
    "%matplotlib inline"
   ]
  },
  {
   "cell_type": "markdown",
   "metadata": {},
   "source": [
    "## Changing view angle in <code><span style=\"background-color:lightgrey\">camera/simple.camera</span></code>\n",
    "Options that were changed to create the following example are:\n",
    "\n",
    "<code>geometry.zenith</code> in the below example this has been modified to 70$^{\\circ}$.\n",
    "\n",
    "<code>geometry.lookAt</code> changes the centre of the image, here this has been changed to <code>[0, 3, 1.5]</code> (x, y, z)\n",
    "\n",
    "<code>results.image</code> and <code>result.integral</code> were also updated to prevent previous experiments being over written"
   ]
  },
  {
   "cell_type": "code",
   "execution_count": null,
   "metadata": {
    "collapsed": false
   },
   "outputs": [],
   "source": [
    "cmd = \"echo 14 camera/camera_birches.dat light/light.dat | \\\n",
    "       start -v -RATm 5 -RATsensor_wavebands wb/waveband.dat obj/a_pair_of_birch_trees.obj\"\n",
    "error = run_start(cmd)\n",
    "\n",
    "if not error:\n",
    "    # here we create a false colour NIR image by reordering the bands, stretch is\n",
    "    # therefore also turned off.\n",
    "    hips2img('output/2birches.hips', stretch=False, order=[3, 1, 2])"
   ]
  },
  {
   "cell_type": "markdown",
   "metadata": {},
   "source": [
    "## Changing illumination parameters in <code><span style=\"background-color:lightgrey\">light/simple.light</span></code>\n",
    "\n",
    "For an illumination source, azimuth and zenith geometry can be changed using the <code>geometry.zenith</code> and <code>geometry.aziumth</code> variables respectively. Below we generate two plots from azimuth angles of 0 and 180."
   ]
  },
  {
   "cell_type": "raw",
   "metadata": {},
   "source": [
    "These code blocks introduce a method for creating camera and light files from with in Python, we will use this more as the tutorial goes on."
   ]
  },
  {
   "cell_type": "code",
   "execution_count": null,
   "metadata": {
    "collapsed": true
   },
   "outputs": [],
   "source": [
    "from generate_camera_file import update_existing_camera"
   ]
  },
  {
   "cell_type": "code",
   "execution_count": null,
   "metadata": {
    "collapsed": false
   },
   "outputs": [],
   "source": [
    "plt.figure(figsize=(15, 3.75))\n",
    "\n",
    "camera_fname = 'camera/simple.camera'\n",
    "light_fname = 'light/simple.light'\n",
    "\n",
    "cmd = \"echo 14 {} {} | \\\n",
    "       start -RATm 5 -RATsensor_wavebands \\\n",
    "       wb/waveband.dat obj/birch_tree_scene.obj\"\n",
    "\n",
    "for i, azimuth in enumerate([0, 90, 180, 270]):\n",
    "    \n",
    "    oname = 'output/azimuth.temp'\n",
    "    im = update_existing_camera(camera_fname, \n",
    "                                camera_fname + '.temp',\n",
    "                                oname=oname,\n",
    "                                new_options={'geometry.idealArea':4})\n",
    "    \n",
    "    update_existing_camera(light_fname,\n",
    "                           light_fname + '.temp',\n",
    "                           new_options={'geometry.azimuth':azimuth,\n",
    "                                        'geometry.zenith':20})\n",
    "    \n",
    "    error = run_start(cmd.format(camera_fname + '.temp', light_fname + '.temp'))\n",
    "    \n",
    "    if not error:\n",
    "        ax = hips2img(oname + '.hips', stretch=True, ax=plt.subplot(1, 4, i+1), imshow=False)\n",
    "        ax.set_title('azimuth = {}'.format(azimuth))"
   ]
  }
 ],
 "metadata": {
  "kernelspec": {
   "display_name": "Python 2",
   "language": "python",
   "name": "python2"
  },
  "language_info": {
   "codemirror_mode": {
    "name": "ipython",
    "version": 2
   },
   "file_extension": ".py",
   "mimetype": "text/x-python",
   "name": "python",
   "nbconvert_exporter": "python",
   "pygments_lexer": "ipython2",
   "version": "2.7.11"
  }
 },
 "nbformat": 4,
 "nbformat_minor": 0
}
