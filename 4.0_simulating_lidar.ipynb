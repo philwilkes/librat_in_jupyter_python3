{
 "cells": [
  {
   "cell_type": "markdown",
   "metadata": {},
   "source": [
    "## 4.0 Simulating lidar\n",
    "Siumlating LiDAR is again done in librat mode 14 and therefore requires a camera and a light file. Below are simple exmaples."
   ]
  },
  {
   "cell_type": "markdown",
   "metadata": {
    "collapsed": true
   },
   "source": [
    "## <code><span style=\"background-color:lightgrey\">camera/simple.lidar</span></code>\n",
    "This is used in the first example for calculating \"distance\" as opposed to \"reflectance\" in the sphere example"
   ]
  },
  {
   "cell_type": "markdown",
   "metadata": {},
   "source": [
    "<code>\n",
    "    camera {  <span style=color:green><i># VERY important space between camera and brace</i></span>\n",
    "      camera.name  = \"lidar camera\";\n",
    "      geometry.perspective = TRUE; \n",
    "      geometry.idealArea = 100000\n",
    "      geometry.azimuth = 0.0;\n",
    "      geometry.zenith = 0.0;\n",
    "      geometry.twist = 0.0;\n",
    "      geometry.lookAt = 0, 0, 0;\n",
    "      geometry.boomLength = 10000.;\n",
    "      samplingCharacteristics.nPixels = 262144;\n",
    "      samplingCharacteristics.rpp = 1;\n",
    "      result.samplingImage = \"output/image_lidar.hips\"\n",
    "      result.integral.mode = \"distance\" <span style=color:green><i># specify \"distance\" here</i></span>\n",
    "      result.integral = \"output/results_lidar.dat\"\n",
    "      lidar.nBins = 150 <span style=color:green><i># number of bins that are recorded</i></span>\n",
    "      lidar.binStart = 14000 <span style=color:green><i># when to start recording</i></span>\n",
    "      lidar.binStep = 1000 <span style=color:green><i># size of bin steps</i></span>\n",
    "    } \n",
    "</code>\n"
   ]
  }
 ],
 "metadata": {
  "kernelspec": {
   "display_name": "Python 2",
   "language": "python",
   "name": "python2"
  },
  "language_info": {
   "codemirror_mode": {
    "name": "ipython",
    "version": 2
   },
   "file_extension": ".py",
   "mimetype": "text/x-python",
   "name": "python",
   "nbconvert_exporter": "python",
   "pygments_lexer": "ipython2",
   "version": "2.7.11"
  }
 },
 "nbformat": 4,
 "nbformat_minor": 0
}
