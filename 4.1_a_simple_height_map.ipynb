{
 "cells": [
  {
   "cell_type": "markdown",
   "metadata": {},
   "source": [
    "## 4.1 A LiDAR example\n",
    "Here we are going to generate a LiDAR waveform using the <code><span style=\"background-color:lightgrey\">obj/sphere.obj</span></code> from the very first example.  The image below shows the return energy as a function of time\n",
    "\n",
    "<img src=img/lidar.gif width=400>"
   ]
  },
  {
   "cell_type": "code",
   "execution_count": null,
   "metadata": {
    "collapsed": false
   },
   "outputs": [],
   "source": [
    "import os\n",
    "import numpy as np\n",
    "import matplotlib.pyplot as plt\n",
    "%matplotlib inline\n",
    "from run_start import *\n",
    "from hips import hips2img, read_header\n",
    "from generate_camera_file import update_existing_camera"
   ]
  },
  {
   "cell_type": "markdown",
   "metadata": {},
   "source": [
    "## <code><span style=\"background-color:lightgrey\">camera/simple.lidar</span></code></p>\n",
    "<code>\n",
    "    camera {  <span style=color:green><i># VERY important space between camera and brace</i></span>\n",
    "      camera.name  = \"lidar camera\";\n",
    "      geometry.perspective = TRUE; \n",
    "      geometry.idealArea = 100000\n",
    "      geometry.azimuth = 0.0;\n",
    "      geometry.zenith = 0.0;\n",
    "      geometry.twist = 0.0;\n",
    "      geometry.lookAt = 0, 0, 0;\n",
    "      geometry.boomLength = 10000.;\n",
    "      samplingCharacteristics.nPixels = 262144;\n",
    "      samplingCharacteristics.rpp = 1;\n",
    "      result.samplingImage = \"output/lidar_sphere.hips\"\n",
    "      result.integral.mode = \"distance\" <span style=color:green><i># specify \"distance\" here</i></span>\n",
    "      result.integral = \"output/lidar_integral.dat\"\n",
    "      lidar.nBins = 150 <span style=color:green><i># number of bins that are recorded</i></span>\n",
    "      lidar.binStart = 14000 <span style=color:green><i># when to start recording</i></span>\n",
    "      lidar.binStep = 1000 <span style=color:green><i># size of bin steps</i></span>\n",
    "    } \n",
    "</code>\n",
    "\n",
    "There are a couple of differences here between this and the <code><span style=\"background-color:lightgrey\">camera/simple.camera</span></code> used in previous examples.  These include:\n",
    "\n",
    "<code>result.integral.mode</code> now records <code>\"distance\"</code> instead of <code>\"scattering order\"</code> or <code>\"wavelength\"</code>.\n",
    "\n",
    "There are also a numer of <code>lidar</code> variables.  From the <code><span style=\"background-color:lightgrey\">obj/sphere.obj</span></code> we can see that it is  3000 (arbitary) units high. The camera is located at 10000 units (<code>geometry.boomLength</code>), so the distance between camera and the top of the spheroid is 7000 units. The 'return' distance is the same, so the minimum distance is 14000 units. Thus, we start lidar sampling at 14000 units (<code>lidar.binStart</code>). \n",
    "\n",
    "The ground is at distance 10000 units from camera and light, but with a perspecive camera (and light source) for lidar, the maximum distance to ground (viewing a region of linear dimension 100000 units) is $\\sqrt{10000^2 + 50000^2} = 50990$. The maximum return trip (for first-order scattering) then is twice this = 101980.4 units.\n",
    "\n",
    "If we wish sampling of 1000 units (<code>lidar.binStep</code>) in the lidar, we need at least $(101981 - 14000)/1000 = 88$ sampling bins (<code>lidar.nBins</code>). We decide on 150 to account for other effects.\n",
    "\n",
    "Note that this is rather an artificial scenario: we do not usually simulate sich wide field of view lidars, so fewer bins (that can be calculated from small angle approximations) are normally sufficient. "
   ]
  },
  {
   "cell_type": "code",
   "execution_count": null,
   "metadata": {
    "collapsed": false
   },
   "outputs": [],
   "source": [
    "# we have specified the brdf_wavband.dat as this has only one band\n",
    "# we are using the same light source as the camera options.\n",
    "cmd = 'echo 14 camera/simple.lidar light/simple.lidar | \\\n",
    "       start -RATm 1 -RATsensor_wavebands wb/brdf_waveband.dat obj/sphere.obj'\n",
    "error = run_start(cmd)\n",
    "\n",
    "if not error:\n",
    "    # we can look at a slice of the resulting image using the 'order'\n",
    "    # option, in this case we are looking at lidar.nBins steps 0, 10, 30\n",
    "    hips2img('output/perspective_lidar.hips', stretch=True, order=[1, 10, 30])"
   ]
  },
  {
   "cell_type": "code",
   "execution_count": null,
   "metadata": {
    "collapsed": false
   },
   "outputs": [],
   "source": [
    "# We can then look at the results of this by plotting\n",
    "# reflectance against bin number\n",
    "refl = np.loadtxt('output/perspective_lidar.dat.direct')\n",
    "plt.plot(refl[:, 1])\n",
    "plt.xlabel('lidar.nBin')\n",
    "plt.ylabel('reflectance')"
   ]
  },
  {
   "cell_type": "markdown",
   "metadata": {},
   "source": [
    "## Modifying <code><span style=\"background-color:lightgrey\">light/simple.lidar</span></code> to create a pulsed illumination</p>\n",
    "The above code ran a simple lidar using a persepctive light source:</p>\n",
    "<code>\n",
    "    camera {\n",
    "    camera.name = \"simple illumination\";\n",
    "    geometry.perspective = \"TRUE\";\n",
    "    geometry.idealArea = 100000.0;\n",
    "    geometry.azimuth = 0.0;\n",
    "    geometry.zenith = 0.0;\n",
    "    geometry.twist = 0.0;\n",
    "    geometry.lookAt = 0,0,0;\n",
    "    geometry.boomLength = 10000.0;\n",
    "</code>\n",
    "\n",
    "To make this a more realitic LiDAR simulator, we can create a pulse of light using the <code>lidar</code> options.</p>\n",
    "<code>\n",
    "    lidar.pulseStart = 5000; <span style=color:green><i># start of pulse, make this half the pulse length for a Gaussian</i></span>\n",
    "    lidar.pulseForm = \"gaussian\"; <span style=color:green><i># shape of pulse (square or gaussian)</i></span>\n",
    "    lidar.pulseSD = 3.0; <span style=color:green><i># how much of a Gaussian?</i></span>\n",
    "    lidar.pulseLength = 10000.0; <span style=color:green><i># length of pulse</i></span>\n",
    "    lidar.pulseSamples = 100; <span style=color:green><i># number of samples for discrete representation</i></span>\n",
    "    lidar.pulseOPFile = \"light/pulse.dat\"; <span style=color:green><i># filename in case want to store representation</i></span>\n",
    "</code>\n",
    "\n"
   ]
  },
  {
   "cell_type": "code",
   "execution_count": null,
   "metadata": {
    "collapsed": false
   },
   "outputs": [],
   "source": [
    "cmd = 'echo 14 camera/pulse.lidar light/pulse.lidar | \\\n",
    "       start -RATm 1 -RATsensor_wavebands wb/brdf_waveband.dat obj/sphere.obj'\n",
    "error = run_start(cmd)\n",
    "\n",
    "if not error:\n",
    "    # we can look at a slice of the resulting image using the 'order'\n",
    "    # option, in this case we are looking at slices 0, 10, 30\n",
    "    refl = np.loadtxt('output/perspective_lidar.dat.direct')\n",
    "    plt.plot(refl[:, 1:].mean(axis=1), label='perspective')\n",
    "    refl = np.loadtxt('output/pulse_lidar.dat.direct')\n",
    "    plt.plot(refl[:, 1:].mean(axis=1), label='pulse')\n",
    "    plt.legend(loc='best')\n",
    "    plt.xlabel('lidar return distance')\n",
    "    plt.ylabel('reflectance')"
   ]
  },
  {
   "cell_type": "code",
   "execution_count": null,
   "metadata": {
    "collapsed": false
   },
   "outputs": [],
   "source": [
    "# We can visualise the pulsed waveform\n",
    "pulse = np.loadtxt('pulse.dat')\n",
    "bins = np.arange(-5000, 5000)[::10000/100] # lidar.pulseLength sampled lidar.pulseSamples times\n",
    "plt.plot(bins, pulse)"
   ]
  },
  {
   "cell_type": "raw",
   "metadata": {},
   "source": [
    "If we use a much longer pulse then we get a more blurred representation"
   ]
  },
  {
   "cell_type": "code",
   "execution_count": null,
   "metadata": {
    "collapsed": false
   },
   "outputs": [],
   "source": [
    "# update camera and illumination\n",
    "oname = 'output/50000_lidar'\n",
    "update_existing_camera('camera/pulse.lidar', 'camera/pulse_50000sd.lidar',\n",
    "                        oname=oname)\n",
    "\n",
    "update_existing_camera('light/pulse.lidar', 'light/pulse_50000sd.lidar',\n",
    "                       new_options={'lidar.pulseStart':50000, # this needs to be half the lidar.pulseLength \n",
    "                                    'lidar.pulseLength':100000, \n",
    "                                    'lidar.pulseOPFile':'light/pulse_long.dat'})\n",
    "\n",
    "cmd = 'echo 14 camera/pulse_50000sd.lidar light/pulse_50000sd.lidar | \\\n",
    "       start -RATm 1 -RATsensor_wavebands wb/brdf_waveband.dat obj/sphere.obj'\n",
    "error = run_start(cmd)\n",
    "\n",
    "if not error:\n",
    "    # we can look at a slice of the resulting image using the 'order'\n",
    "    # option, in this case we are looking at slices 0, 10, 30\n",
    "    refl = np.loadtxt('output/perspective_lidar.dat.direct')\n",
    "    plt.plot(refl[:, 1:].mean(axis=1), label='perspective')\n",
    "    refl = np.loadtxt('output/pulse_lidar.dat.direct')\n",
    "    plt.plot(refl[:, 1:].mean(axis=1), label='pulse')\n",
    "    refl = np.loadtxt('{}.dat.direct'.format(oname))\n",
    "    plt.plot(refl[:, 1:].mean(axis=1), label='large pulse')\n",
    "    plt.legend(loc='best')\n",
    "    plt.xlabel('lidar return distance')\n",
    "    plt.ylabel('reflectance')\n",
    "    plt.ylim(0, .0045)"
   ]
  },
  {
   "cell_type": "code",
   "execution_count": null,
   "metadata": {
    "collapsed": false
   },
   "outputs": [],
   "source": [
    "# and now compare the pulses\n",
    "bins = np.arange(-5000, 5000)[::10000/100] # lidar.pulseLength sampled lidar.pulseSamples times\n",
    "pulse_short = np.loadtxt('light/pulse.dat')\n",
    "plt.plot(bins, pulse_short)\n",
    "\n",
    "bins = np.arange(-25000, 25000)[::50000/100]\n",
    "pulse_long = np.loadtxt('light/pulse_long.dat')\n",
    "plt.plot(bins, pulse_long)"
   ]
  }
 ],
 "metadata": {
  "kernelspec": {
   "display_name": "Python 2",
   "language": "python",
   "name": "python2"
  },
  "language_info": {
   "codemirror_mode": {
    "name": "ipython",
    "version": 2
   },
   "file_extension": ".py",
   "mimetype": "text/x-python",
   "name": "python",
   "nbconvert_exporter": "python",
   "pygments_lexer": "ipython2",
   "version": "2.7.11"
  }
 },
 "nbformat": 4,
 "nbformat_minor": 0
}
