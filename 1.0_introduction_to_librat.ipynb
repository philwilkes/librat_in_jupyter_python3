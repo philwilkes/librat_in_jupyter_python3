{
 "cells": [
  {
   "cell_type": "markdown",
   "metadata": {},
   "source": [
    "## Introduction to librat\n",
    "### Phil Wilkes (UCL/NCEO) <a href=mailto:p.wilkes@ucl.ac.uk>p.wilkes@ucl.ac.uk</a>\n",
    "Librat is a freeware Monte Carlo Ray Tracing code, developed at UCL Geography. The code Copyright is held by UCL (Prof. P. Lewis and Dr. M. Disney), but is provided free of charge and unsupported for non-commercial use. For commercial use please contact Prof. P. Lewis.\n",
    "\n",
    "This set of Jupyter notebooks will take you through installation, running a few simple simulations, adding trees to the scene and then more complex multispectral and lidar simulations.</p>\n",
    "<p><a href=1.0_introduction_to_librat.ipynb>1.0 <b>Introduction to librat</b></a></p>\n",
    "<p><a href=1.1_installing_librat.ipynb>1.1 Installing librat</a></p>\n",
    "<p><a href=1.2_simple_sphere_example.ipynb>1.2 Simple sphere example</a></p>\n",
    "<p><a href=1.3_adding_objects_to_the_scene.ipynb>1.3 Adding objects to the scene</a></p>\n",
    "\n",
    "<p><a href=2.0_vegetated_scenes.ipynb><b>2.0 Vegetated scenes</b></a></p>\n",
    "<p><a href=2.1_adding_a_tree_object.ipynb>2.1 Adding a tree object</a></p>\n",
    "<p><a href=2.2_using_#inlude_to_create_a_forest>2.2 Using #inlude to create a forest</a></p>\n",
    "\n",
    "<p><a href=3.0_mode_14_running_spectral_simulations.ipynb><b>3.0 Mode_14: running spectral simulations</b></a></p>\n",
    "<p><a href=3.1_RGB_image_of_a_tree.ipynb>3.1 RGB image of a tree</a></p>\n",
    "<p><a href=3.2_changing_view_angles.ipynb>3.2 Changing view angles</a></p>\n",
    "<p><a href=3.3_creating_a_brdf_model.ipynb>3.3 Creating a brdf model</a></p>\n",
    "\n",
    "<p><a href=4.0_simulating_lidar.ipynb><b>4.0 Simulating LiDAR</b></a></p>\n",
    "<p><a href=4.1_a_simple_height_map.ipynb>4.1 A simple height map</a></p>\n",
    "<p><a href=4.2_simulating_a_waveform_over_a_single_tree.ipynb>4.2 Simulating a waveform over a single tree</a></p>\n",
    "<p><a href=4.3_simulating_airborne_lidar_over_a_larger_scene.ipynb>4.3 Simulating airborne lidar over a larger scene</a></p>\n"
   ]
  },
  {
   "cell_type": "code",
   "execution_count": null,
   "metadata": {
    "collapsed": true
   },
   "outputs": [],
   "source": []
  }
 ],
 "metadata": {
  "kernelspec": {
   "display_name": "Python 2",
   "language": "python",
   "name": "python2"
  },
  "language_info": {
   "codemirror_mode": {
    "name": "ipython",
    "version": 2
   },
   "file_extension": ".py",
   "mimetype": "text/x-python",
   "name": "python",
   "nbconvert_exporter": "python",
   "pygments_lexer": "ipython2",
   "version": "2.7.11"
  }
 },
 "nbformat": 4,
 "nbformat_minor": 0
}
